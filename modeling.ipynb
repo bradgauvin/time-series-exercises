{
 "cells": [
  {
   "cell_type": "markdown",
   "id": "c965ee80",
   "metadata": {},
   "source": [
    "## Exercises\n",
    "\n",
    "The end result of this exercise should be a Jupyter notebook named `model`.\n",
    "\n",
    "Using [saas.csv](https://ds.codeup.com/saas.csv) or log data from API usage or store_item_sales\n",
    "\n",
    "1. Split data (train/test) and resample by any period, except daily, and aggregate using the sum. \n",
    "2. Forecast, plot and evaluate using each of the 4 parametric based methods we discussed:\n",
    "    - Simple Average\n",
    "    - Moving Average\n",
    "    - Holt's Linear Trend Model\n",
    "    - Based on previous year/month/etc., this is up to you.\n",
    "\n",
    "Optional: Using store item demand\n",
    "\n",
    "1. Predict 2018 total **monthly** sales for a single store and/or item by creating a model using prophet.\n",
    "2. Return a dataframe with the month, store_id, y-hat, and the confidence intervals (y-hat lower, y-hat upper).\n",
    "3. Plot the 2018 monthly sales predictions."
   ]
  },
  {
   "cell_type": "code",
   "execution_count": 1,
   "id": "669dd617",
   "metadata": {
    "ExecuteTime": {
     "end_time": "2022-08-15T16:16:15.789971Z",
     "start_time": "2022-08-15T16:16:14.584822Z"
    }
   },
   "outputs": [],
   "source": [
    "import warnings\n",
    "warnings.filterwarnings(\"ignore\")\n",
    "\n",
    "import numpy as np\n",
    "import pandas as pd\n",
    "\n",
    "from datetime import datetime\n",
    "from sklearn.metrics import mean_squared_error\n",
    "from math import sqrt\n",
    "\n",
    "import matplotlib.pyplot as plt\n",
    "import seaborn as sns\n",
    "from pandas.plotting import register_matplotlib_converters\n",
    "\n",
    "import statsmodels.api as sm\n",
    "from statsmodels.tsa.api import Holt\n",
    "\n",
    "import acquire\n",
    "import prepare"
   ]
  },
  {
   "cell_type": "code",
   "execution_count": 2,
   "id": "58d92fc0",
   "metadata": {
    "ExecuteTime": {
     "end_time": "2022-08-15T16:16:15.956408Z",
     "start_time": "2022-08-15T16:16:15.790936Z"
    }
   },
   "outputs": [],
   "source": [
    "df = pd.read_csv('saas.csv')\n",
    "df.columns = [col.lower() for col in df.columns]"
   ]
  },
  {
   "cell_type": "code",
   "execution_count": 3,
   "id": "525af4c8",
   "metadata": {
    "ExecuteTime": {
     "end_time": "2022-08-15T16:16:16.012850Z",
     "start_time": "2022-08-15T16:16:15.957215Z"
    }
   },
   "outputs": [],
   "source": [
    "df.index = pd.to_datetime(df.month_invoiced)\n",
    "df = df.drop(columns=['month_invoiced'])"
   ]
  },
  {
   "cell_type": "code",
   "execution_count": 4,
   "id": "577abc42",
   "metadata": {
    "ExecuteTime": {
     "end_time": "2022-08-15T16:16:16.021049Z",
     "start_time": "2022-08-15T16:16:16.014128Z"
    }
   },
   "outputs": [
    {
     "data": {
      "text/html": [
       "<div>\n",
       "<style scoped>\n",
       "    .dataframe tbody tr th:only-of-type {\n",
       "        vertical-align: middle;\n",
       "    }\n",
       "\n",
       "    .dataframe tbody tr th {\n",
       "        vertical-align: top;\n",
       "    }\n",
       "\n",
       "    .dataframe thead th {\n",
       "        text-align: right;\n",
       "    }\n",
       "</style>\n",
       "<table border=\"1\" class=\"dataframe\">\n",
       "  <thead>\n",
       "    <tr style=\"text-align: right;\">\n",
       "      <th></th>\n",
       "      <th>customer_id</th>\n",
       "      <th>invoice_id</th>\n",
       "      <th>subscription_type</th>\n",
       "      <th>amount</th>\n",
       "    </tr>\n",
       "    <tr>\n",
       "      <th>month_invoiced</th>\n",
       "      <th></th>\n",
       "      <th></th>\n",
       "      <th></th>\n",
       "      <th></th>\n",
       "    </tr>\n",
       "  </thead>\n",
       "  <tbody>\n",
       "    <tr>\n",
       "      <th>2014-01-31</th>\n",
       "      <td>1000000</td>\n",
       "      <td>5000000</td>\n",
       "      <td>0.0</td>\n",
       "      <td>0.0</td>\n",
       "    </tr>\n",
       "    <tr>\n",
       "      <th>2014-01-31</th>\n",
       "      <td>1000001</td>\n",
       "      <td>5000001</td>\n",
       "      <td>2.0</td>\n",
       "      <td>10.0</td>\n",
       "    </tr>\n",
       "    <tr>\n",
       "      <th>2014-01-31</th>\n",
       "      <td>1000002</td>\n",
       "      <td>5000002</td>\n",
       "      <td>0.0</td>\n",
       "      <td>0.0</td>\n",
       "    </tr>\n",
       "    <tr>\n",
       "      <th>2014-01-31</th>\n",
       "      <td>1000003</td>\n",
       "      <td>5000003</td>\n",
       "      <td>0.0</td>\n",
       "      <td>0.0</td>\n",
       "    </tr>\n",
       "    <tr>\n",
       "      <th>2014-01-31</th>\n",
       "      <td>1000004</td>\n",
       "      <td>5000004</td>\n",
       "      <td>1.0</td>\n",
       "      <td>5.0</td>\n",
       "    </tr>\n",
       "  </tbody>\n",
       "</table>\n",
       "</div>"
      ],
      "text/plain": [
       "                customer_id  invoice_id  subscription_type  amount\n",
       "month_invoiced                                                    \n",
       "2014-01-31          1000000     5000000                0.0     0.0\n",
       "2014-01-31          1000001     5000001                2.0    10.0\n",
       "2014-01-31          1000002     5000002                0.0     0.0\n",
       "2014-01-31          1000003     5000003                0.0     0.0\n",
       "2014-01-31          1000004     5000004                1.0     5.0"
      ]
     },
     "execution_count": 4,
     "metadata": {},
     "output_type": "execute_result"
    }
   ],
   "source": [
    "df.head()"
   ]
  },
  {
   "cell_type": "code",
   "execution_count": 5,
   "id": "d626e387",
   "metadata": {
    "ExecuteTime": {
     "end_time": "2022-08-15T16:16:16.029386Z",
     "start_time": "2022-08-15T16:16:16.021789Z"
    }
   },
   "outputs": [],
   "source": [
    "# split into train, validation, test\n",
    "train = df.loc[:'2016-01-31']\n",
    "validate = df.loc['2016-01-31':'2017-01-31']\n",
    "test = df.loc['2017-01-31': ]"
   ]
  },
  {
   "cell_type": "code",
   "execution_count": 6,
   "id": "a57a03ea",
   "metadata": {
    "ExecuteTime": {
     "end_time": "2022-08-15T16:16:16.215529Z",
     "start_time": "2022-08-15T16:16:16.030194Z"
    }
   },
   "outputs": [
    {
     "data": {
      "image/png": "[encoded data removed]",
      "text/plain": [
       "<Figure size 864x288 with 1 Axes>"
      ]
     },
     "metadata": {
      "needs_background": "light"
     },
     "output_type": "display_data"
    }
   ],
   "source": [
    "col = 'amount'\n",
    "resample_by = 'M'\n",
    "plt.figure(figsize=(12,4))\n",
    "train.resample(resample_by).sum().amount.plot()\n",
    "validate.resample(resample_by).sum().amount.plot()\n",
    "test.resample(resample_by).sum().amount.plot()\n",
    "plt.ylabel(col)\n",
    "plt.title(col)\n",
    "plt.show()"
   ]
  },
  {
   "cell_type": "code",
   "execution_count": 7,
   "id": "4a577c03",
   "metadata": {
    "ExecuteTime": {
     "end_time": "2022-08-15T16:16:16.249663Z",
     "start_time": "2022-08-15T16:16:16.216250Z"
    }
   },
   "outputs": [],
   "source": [
    "train = train.resample('M').sum()\n",
    "validate = validate.resample('M').sum()\n",
    "test = test.resample('M').sum()"
   ]
  },
  {
   "cell_type": "code",
   "execution_count": 8,
   "id": "e7fdabb8",
   "metadata": {
    "ExecuteTime": {
     "end_time": "2022-08-15T16:16:16.255674Z",
     "start_time": "2022-08-15T16:16:16.250606Z"
    }
   },
   "outputs": [],
   "source": [
    "# evaluation function to compute rmse\n",
    "def evaluate(target_var):\n",
    "    rmse = round(sqrt(mean_squared_error(validate[target_var], yhat_df[target_var])), 0)\n",
    "    return rmse\n",
    "# plot and evaluate \n",
    "def plot_and_eval(target_var):\n",
    "    plt.figure(figsize = (12,4))\n",
    "    plt.plot(train[target_var], label = 'Train', linewidth = 1)\n",
    "    plt.plot(validate[target_var], label = 'Validate', linewidth = 1)\n",
    "    plt.plot(yhat_df[target_var], label = 'Predicted')\n",
    "    plt.title(target_var)\n",
    "    plt.legend()\n",
    "    rmse = evaluate(target_var)\n",
    "    print(target_var, '-- RMSE: {:.0f}'.format(rmse))\n",
    "    plt.show()\n",
    "    \n",
    "# Create the empty dataframe\n",
    "eval_df = pd.DataFrame(columns=['model_type', 'target_var', 'rmse'])\n",
    "\n",
    "# function to store rmse for comparison purposes\n",
    "def append_eval_df(model_type, target_var):\n",
    "    rmse = evaluate(target_var)\n",
    "    d = {'model_type': [model_type], 'target_var': [target_var], 'rmse': [rmse]}\n",
    "    d = pd.DataFrame(d)\n",
    "    return eval_df.append(d, ignore_index = True)"
   ]
  },
  {
   "cell_type": "markdown",
   "id": "56ae0b40",
   "metadata": {},
   "source": [
    "### Last observed Value"
   ]
  },
  {
   "cell_type": "code",
   "execution_count": 9,
   "id": "e5cfe671",
   "metadata": {
    "ExecuteTime": {
     "end_time": "2022-08-15T16:16:16.262844Z",
     "start_time": "2022-08-15T16:16:16.256995Z"
    }
   },
   "outputs": [
    {
     "data": {
      "text/html": [
       "<div>\n",
       "<style scoped>\n",
       "    .dataframe tbody tr th:only-of-type {\n",
       "        vertical-align: middle;\n",
       "    }\n",
       "\n",
       "    .dataframe tbody tr th {\n",
       "        vertical-align: top;\n",
       "    }\n",
       "\n",
       "    .dataframe thead th {\n",
       "        text-align: right;\n",
       "    }\n",
       "</style>\n",
       "<table border=\"1\" class=\"dataframe\">\n",
       "  <thead>\n",
       "    <tr style=\"text-align: right;\">\n",
       "      <th></th>\n",
       "      <th>amount</th>\n",
       "    </tr>\n",
       "    <tr>\n",
       "      <th>month_invoiced</th>\n",
       "      <th></th>\n",
       "    </tr>\n",
       "  </thead>\n",
       "  <tbody>\n",
       "    <tr>\n",
       "      <th>2016-01-31</th>\n",
       "      <td>51955.0</td>\n",
       "    </tr>\n",
       "    <tr>\n",
       "      <th>2016-02-29</th>\n",
       "      <td>51955.0</td>\n",
       "    </tr>\n",
       "  </tbody>\n",
       "</table>\n",
       "</div>"
      ],
      "text/plain": [
       "                 amount\n",
       "month_invoiced         \n",
       "2016-01-31      51955.0\n",
       "2016-02-29      51955.0"
      ]
     },
     "execution_count": 9,
     "metadata": {},
     "output_type": "execute_result"
    }
   ],
   "source": [
    "amount = train.resample('M').amount.sum()[-1:][0]\n",
    "\n",
    "yhat_df = pd.DataFrame({'amount': [amount]}, \n",
    "                       index = validate.index)\n",
    "\n",
    "yhat_df.head(2)"
   ]
  },
  {
   "cell_type": "code",
   "execution_count": 10,
   "id": "bcc0f503",
   "metadata": {
    "ExecuteTime": {
     "end_time": "2022-08-15T16:16:16.351728Z",
     "start_time": "2022-08-15T16:16:16.265863Z"
    }
   },
   "outputs": [
    {
     "name": "stdout",
     "output_type": "stream",
     "text": [
      "amount -- RMSE: 897\n"
     ]
    },
    {
     "data": {
      "image/png": "[encoded data removed]",
      "text/plain": [
       "<Figure size 864x288 with 1 Axes>"
      ]
     },
     "metadata": {
      "needs_background": "light"
     },
     "output_type": "display_data"
    }
   ],
   "source": [
    "plot_and_eval('amount')"
   ]
  },
  {
   "cell_type": "code",
   "execution_count": 11,
   "id": "8763dede",
   "metadata": {
    "ExecuteTime": {
     "end_time": "2022-08-15T16:16:16.469289Z",
     "start_time": "2022-08-15T16:16:16.352750Z"
    }
   },
   "outputs": [],
   "source": [
    "eval_df = append_eval_df(model_type='last_observed_value', target_var = 'amount')"
   ]
  },
  {
   "cell_type": "code",
   "execution_count": 12,
   "id": "3e374497",
   "metadata": {
    "ExecuteTime": {
     "end_time": "2022-08-15T16:16:16.475335Z",
     "start_time": "2022-08-15T16:16:16.470291Z"
    }
   },
   "outputs": [
    {
     "data": {
      "text/html": [
       "<div>\n",
       "<style scoped>\n",
       "    .dataframe tbody tr th:only-of-type {\n",
       "        vertical-align: middle;\n",
       "    }\n",
       "\n",
       "    .dataframe tbody tr th {\n",
       "        vertical-align: top;\n",
       "    }\n",
       "\n",
       "    .dataframe thead th {\n",
       "        text-align: right;\n",
       "    }\n",
       "</style>\n",
       "<table border=\"1\" class=\"dataframe\">\n",
       "  <thead>\n",
       "    <tr style=\"text-align: right;\">\n",
       "      <th></th>\n",
       "      <th>model_type</th>\n",
       "      <th>target_var</th>\n",
       "      <th>rmse</th>\n",
       "    </tr>\n",
       "  </thead>\n",
       "  <tbody>\n",
       "    <tr>\n",
       "      <th>0</th>\n",
       "      <td>last_observed_value</td>\n",
       "      <td>amount</td>\n",
       "      <td>897.0</td>\n",
       "    </tr>\n",
       "  </tbody>\n",
       "</table>\n",
       "</div>"
      ],
      "text/plain": [
       "            model_type target_var   rmse\n",
       "0  last_observed_value     amount  897.0"
      ]
     },
     "execution_count": 12,
     "metadata": {},
     "output_type": "execute_result"
    }
   ],
   "source": [
    "eval_df"
   ]
  },
  {
   "cell_type": "code",
   "execution_count": 13,
   "id": "9e1d3d71",
   "metadata": {
    "ExecuteTime": {
     "end_time": "2022-08-15T16:16:16.482527Z",
     "start_time": "2022-08-15T16:16:16.476593Z"
    }
   },
   "outputs": [
    {
     "data": {
      "text/html": [
       "<div>\n",
       "<style scoped>\n",
       "    .dataframe tbody tr th:only-of-type {\n",
       "        vertical-align: middle;\n",
       "    }\n",
       "\n",
       "    .dataframe tbody tr th {\n",
       "        vertical-align: top;\n",
       "    }\n",
       "\n",
       "    .dataframe thead th {\n",
       "        text-align: right;\n",
       "    }\n",
       "</style>\n",
       "<table border=\"1\" class=\"dataframe\">\n",
       "  <thead>\n",
       "    <tr style=\"text-align: right;\">\n",
       "      <th></th>\n",
       "      <th>amount</th>\n",
       "    </tr>\n",
       "    <tr>\n",
       "      <th>month_invoiced</th>\n",
       "      <th></th>\n",
       "    </tr>\n",
       "  </thead>\n",
       "  <tbody>\n",
       "    <tr>\n",
       "      <th>2016-01-31</th>\n",
       "      <td>45824.0</td>\n",
       "    </tr>\n",
       "    <tr>\n",
       "      <th>2016-02-29</th>\n",
       "      <td>45824.0</td>\n",
       "    </tr>\n",
       "  </tbody>\n",
       "</table>\n",
       "</div>"
      ],
      "text/plain": [
       "                 amount\n",
       "month_invoiced         \n",
       "2016-01-31      45824.0\n",
       "2016-02-29      45824.0"
      ]
     },
     "execution_count": 13,
     "metadata": {},
     "output_type": "execute_result"
    }
   ],
   "source": [
    "amount = train.resample('M').amount.sum().mean()\n",
    "\n",
    "yhat_df = pd.DataFrame({'amount': [amount]}, \n",
    "                       index = validate.index)\n",
    "\n",
    "yhat_df.head(2)"
   ]
  },
  {
   "cell_type": "code",
   "execution_count": 14,
   "id": "b2d5fe2b",
   "metadata": {
    "ExecuteTime": {
     "end_time": "2022-08-15T16:16:16.582362Z",
     "start_time": "2022-08-15T16:16:16.483955Z"
    }
   },
   "outputs": [
    {
     "name": "stdout",
     "output_type": "stream",
     "text": [
      "amount -- RMSE: 6870\n"
     ]
    },
    {
     "data": {
      "image/png": "[encoded data removed]",
      "text/plain": [
       "<Figure size 864x288 with 1 Axes>"
      ]
     },
     "metadata": {
      "needs_background": "light"
     },
     "output_type": "display_data"
    }
   ],
   "source": [
    "plot_and_eval('amount')"
   ]
  },
  {
   "cell_type": "markdown",
   "id": "46d84ea7",
   "metadata": {},
   "source": [
    "### Simple Average"
   ]
  },
  {
   "cell_type": "code",
   "execution_count": 15,
   "id": "936b4ae7",
   "metadata": {
    "ExecuteTime": {
     "end_time": "2022-08-15T16:16:16.596249Z",
     "start_time": "2022-08-15T16:16:16.583775Z"
    }
   },
   "outputs": [],
   "source": [
    "eval_df = append_eval_df(model_type='simple_average', \n",
    "                             target_var = col)"
   ]
  },
  {
   "cell_type": "code",
   "execution_count": 16,
   "id": "07b160f9",
   "metadata": {
    "ExecuteTime": {
     "end_time": "2022-08-15T16:16:16.602147Z",
     "start_time": "2022-08-15T16:16:16.597665Z"
    }
   },
   "outputs": [
    {
     "data": {
      "text/html": [
       "<div>\n",
       "<style scoped>\n",
       "    .dataframe tbody tr th:only-of-type {\n",
       "        vertical-align: middle;\n",
       "    }\n",
       "\n",
       "    .dataframe tbody tr th {\n",
       "        vertical-align: top;\n",
       "    }\n",
       "\n",
       "    .dataframe thead th {\n",
       "        text-align: right;\n",
       "    }\n",
       "</style>\n",
       "<table border=\"1\" class=\"dataframe\">\n",
       "  <thead>\n",
       "    <tr style=\"text-align: right;\">\n",
       "      <th></th>\n",
       "      <th>model_type</th>\n",
       "      <th>target_var</th>\n",
       "      <th>rmse</th>\n",
       "    </tr>\n",
       "  </thead>\n",
       "  <tbody>\n",
       "    <tr>\n",
       "      <th>0</th>\n",
       "      <td>last_observed_value</td>\n",
       "      <td>amount</td>\n",
       "      <td>897.0</td>\n",
       "    </tr>\n",
       "    <tr>\n",
       "      <th>1</th>\n",
       "      <td>simple_average</td>\n",
       "      <td>amount</td>\n",
       "      <td>6870.0</td>\n",
       "    </tr>\n",
       "  </tbody>\n",
       "</table>\n",
       "</div>"
      ],
      "text/plain": [
       "            model_type target_var    rmse\n",
       "0  last_observed_value     amount   897.0\n",
       "1       simple_average     amount  6870.0"
      ]
     },
     "execution_count": 16,
     "metadata": {},
     "output_type": "execute_result"
    }
   ],
   "source": [
    "eval_df"
   ]
  },
  {
   "cell_type": "markdown",
   "id": "27291881",
   "metadata": {},
   "source": [
    "### 10M Moving avg"
   ]
  },
  {
   "cell_type": "code",
   "execution_count": 17,
   "id": "d07748f4",
   "metadata": {
    "ExecuteTime": {
     "end_time": "2022-08-15T16:16:16.613151Z",
     "start_time": "2022-08-15T16:16:16.605359Z"
    }
   },
   "outputs": [
    {
     "data": {
      "text/html": [
       "<div>\n",
       "<style scoped>\n",
       "    .dataframe tbody tr th:only-of-type {\n",
       "        vertical-align: middle;\n",
       "    }\n",
       "\n",
       "    .dataframe tbody tr th {\n",
       "        vertical-align: top;\n",
       "    }\n",
       "\n",
       "    .dataframe thead th {\n",
       "        text-align: right;\n",
       "    }\n",
       "</style>\n",
       "<table border=\"1\" class=\"dataframe\">\n",
       "  <thead>\n",
       "    <tr style=\"text-align: right;\">\n",
       "      <th></th>\n",
       "      <th>amount</th>\n",
       "    </tr>\n",
       "    <tr>\n",
       "      <th>month_invoiced</th>\n",
       "      <th></th>\n",
       "    </tr>\n",
       "  </thead>\n",
       "  <tbody>\n",
       "    <tr>\n",
       "      <th>2016-01-31</th>\n",
       "      <td>50482.0</td>\n",
       "    </tr>\n",
       "    <tr>\n",
       "      <th>2016-02-29</th>\n",
       "      <td>50482.0</td>\n",
       "    </tr>\n",
       "  </tbody>\n",
       "</table>\n",
       "</div>"
      ],
      "text/plain": [
       "                 amount\n",
       "month_invoiced         \n",
       "2016-01-31      50482.0\n",
       "2016-02-29      50482.0"
      ]
     },
     "execution_count": 17,
     "metadata": {},
     "output_type": "execute_result"
    }
   ],
   "source": [
    "# compute a 30 day rolling average, \n",
    "# use the most recent/last 30 day period value to predict forward. \n",
    "\n",
    "period = 10\n",
    "\n",
    "amount = round(train.resample('M').amount.sum().rolling(period).mean().iloc[-1], 2)\n",
    "\n",
    "# yhat_df = make_predictions()\n",
    "\n",
    "yhat_df = pd.DataFrame({'amount': [amount],\n",
    "                           }, index = validate.index)\n",
    "yhat_df.head(2)"
   ]
  },
  {
   "cell_type": "code",
   "execution_count": 18,
   "id": "969cc8d8",
   "metadata": {
    "ExecuteTime": {
     "end_time": "2022-08-15T16:16:16.714787Z",
     "start_time": "2022-08-15T16:16:16.615100Z"
    }
   },
   "outputs": [
    {
     "name": "stdout",
     "output_type": "stream",
     "text": [
      "amount -- RMSE: 2256\n"
     ]
    },
    {
     "data": {
      "image/png": "[encoded data removed]",
      "text/plain": [
       "<Figure size 864x288 with 1 Axes>"
      ]
     },
     "metadata": {
      "needs_background": "light"
     },
     "output_type": "display_data"
    }
   ],
   "source": [
    "plot_and_eval('amount')"
   ]
  },
  {
   "cell_type": "code",
   "execution_count": 19,
   "id": "08dcc367",
   "metadata": {
    "ExecuteTime": {
     "end_time": "2022-08-15T16:16:16.738025Z",
     "start_time": "2022-08-15T16:16:16.716126Z"
    }
   },
   "outputs": [
    {
     "data": {
      "text/html": [
       "<div>\n",
       "<style scoped>\n",
       "    .dataframe tbody tr th:only-of-type {\n",
       "        vertical-align: middle;\n",
       "    }\n",
       "\n",
       "    .dataframe tbody tr th {\n",
       "        vertical-align: top;\n",
       "    }\n",
       "\n",
       "    .dataframe thead th {\n",
       "        text-align: right;\n",
       "    }\n",
       "</style>\n",
       "<table border=\"1\" class=\"dataframe\">\n",
       "  <thead>\n",
       "    <tr style=\"text-align: right;\">\n",
       "      <th></th>\n",
       "      <th>model_type</th>\n",
       "      <th>target_var</th>\n",
       "      <th>rmse</th>\n",
       "    </tr>\n",
       "  </thead>\n",
       "  <tbody>\n",
       "    <tr>\n",
       "      <th>0</th>\n",
       "      <td>last_observed_value</td>\n",
       "      <td>amount</td>\n",
       "      <td>897.0</td>\n",
       "    </tr>\n",
       "    <tr>\n",
       "      <th>1</th>\n",
       "      <td>simple_average</td>\n",
       "      <td>amount</td>\n",
       "      <td>6870.0</td>\n",
       "    </tr>\n",
       "    <tr>\n",
       "      <th>2</th>\n",
       "      <td>10M moving average</td>\n",
       "      <td>amount</td>\n",
       "      <td>2256.0</td>\n",
       "    </tr>\n",
       "  </tbody>\n",
       "</table>\n",
       "</div>"
      ],
      "text/plain": [
       "            model_type target_var    rmse\n",
       "0  last_observed_value     amount   897.0\n",
       "1       simple_average     amount  6870.0\n",
       "2   10M moving average     amount  2256.0"
      ]
     },
     "execution_count": 19,
     "metadata": {},
     "output_type": "execute_result"
    }
   ],
   "source": [
    "append_eval_df(model_type='10M moving average',target_var='amount')"
   ]
  },
  {
   "cell_type": "code",
   "execution_count": 20,
   "id": "c0f46474",
   "metadata": {
    "ExecuteTime": {
     "end_time": "2022-08-15T16:16:16.854968Z",
     "start_time": "2022-08-15T16:16:16.740584Z"
    }
   },
   "outputs": [],
   "source": [
    "periods = range(1,12)\n",
    "\n",
    "for p in periods:\n",
    "    \n",
    "\n",
    "    amount = round(train.resample('M').amount.sum().rolling(p).mean().iloc[-1], 2)\n",
    "\n",
    "    # yhat_df = make_predictions()\n",
    "\n",
    "    yhat_df = pd.DataFrame({'amount': [amount],\n",
    "                               }, index = validate.index)\n",
    "\n",
    "    model_type = str(p) + 'M moving average'\n",
    "    eval_df = append_eval_df(model_type = model_type,\n",
    "                             target_var = 'amount'\n",
    "                            )"
   ]
  },
  {
   "cell_type": "code",
   "execution_count": 21,
   "id": "57d7fc81",
   "metadata": {
    "ExecuteTime": {
     "end_time": "2022-08-15T16:16:17.068891Z",
     "start_time": "2022-08-15T16:16:16.855682Z"
    }
   },
   "outputs": [
    {
     "data": {
      "image/png": "[encoded data removed]",
      "text/plain": [
       "<Figure size 432x288 with 4 Axes>"
      ]
     },
     "metadata": {
      "needs_background": "light"
     },
     "output_type": "display_data"
    }
   ],
   "source": [
    "sm.tsa.seasonal_decompose(train.amount).plot()\n",
    "None"
   ]
  },
  {
   "cell_type": "markdown",
   "id": "b111a5a7",
   "metadata": {},
   "source": [
    "### Holt's Linear Trend Model"
   ]
  },
  {
   "cell_type": "code",
   "execution_count": 22,
   "id": "848d4f3c",
   "metadata": {
    "ExecuteTime": {
     "end_time": "2022-08-15T16:16:17.080815Z",
     "start_time": "2022-08-15T16:16:17.070502Z"
    }
   },
   "outputs": [],
   "source": [
    "model = Holt(train.amount, exponential = False, damped=True)\n",
    "model = model.fit(optimized = True)\n",
    "yhat_items = model.predict(start = validate.index[0], \n",
    "                           end = validate.index[-1])\n",
    "yhat_df['amount'] = round(yhat_items, 2)"
   ]
  },
  {
   "cell_type": "code",
   "execution_count": 23,
   "id": "5a76e38f",
   "metadata": {
    "ExecuteTime": {
     "end_time": "2022-08-15T16:16:17.165035Z",
     "start_time": "2022-08-15T16:16:17.082169Z"
    }
   },
   "outputs": [
    {
     "name": "stdout",
     "output_type": "stream",
     "text": [
      "amount -- RMSE: 868\n"
     ]
    },
    {
     "data": {
      "image/png": "[encoded data removed]",
      "text/plain": [
       "<Figure size 864x288 with 1 Axes>"
      ]
     },
     "metadata": {
      "needs_background": "light"
     },
     "output_type": "display_data"
    }
   ],
   "source": [
    "plot_and_eval('amount')"
   ]
  },
  {
   "cell_type": "code",
   "execution_count": 24,
   "id": "f03efed7",
   "metadata": {
    "ExecuteTime": {
     "end_time": "2022-08-15T16:16:17.178022Z",
     "start_time": "2022-08-15T16:16:17.166539Z"
    }
   },
   "outputs": [],
   "source": [
    "eval_df=append_eval_df(model_type='Holts', target_var='amount')"
   ]
  },
  {
   "cell_type": "code",
   "execution_count": 25,
   "id": "e4d8d270",
   "metadata": {
    "ExecuteTime": {
     "end_time": "2022-08-15T16:16:17.181094Z",
     "start_time": "2022-08-15T16:16:17.178815Z"
    }
   },
   "outputs": [],
   "source": [
    "train_h = train\n",
    "validate_h = validate\n",
    "test_h = test"
   ]
  },
  {
   "cell_type": "markdown",
   "id": "851a1f46",
   "metadata": {},
   "source": [
    "### Previous Cycle"
   ]
  },
  {
   "cell_type": "code",
   "execution_count": 26,
   "id": "386b8f86",
   "metadata": {
    "ExecuteTime": {
     "end_time": "2022-08-15T16:16:17.208537Z",
     "start_time": "2022-08-15T16:16:17.182440Z"
    }
   },
   "outputs": [],
   "source": [
    "train = df[:'2015']\n",
    "validate = df['2016']\n",
    "test = df['2017']"
   ]
  },
  {
   "cell_type": "code",
   "execution_count": 27,
   "id": "a87e4402",
   "metadata": {
    "ExecuteTime": {
     "end_time": "2022-08-15T16:16:17.239821Z",
     "start_time": "2022-08-15T16:16:17.209181Z"
    }
   },
   "outputs": [],
   "source": [
    "train = train.resample('M').sum()\n",
    "validate = validate.resample('M').sum()\n",
    "test = test.resample('M').sum()"
   ]
  },
  {
   "cell_type": "code",
   "execution_count": 28,
   "id": "1d8a7bc9",
   "metadata": {
    "ExecuteTime": {
     "end_time": "2022-08-15T16:16:17.252601Z",
     "start_time": "2022-08-15T16:16:17.243987Z"
    }
   },
   "outputs": [],
   "source": [
    "yhat_df = train['2015'] + train.diff(12).mean()"
   ]
  },
  {
   "cell_type": "code",
   "execution_count": 29,
   "id": "83be85a9",
   "metadata": {
    "ExecuteTime": {
     "end_time": "2022-08-15T16:16:17.259121Z",
     "start_time": "2022-08-15T16:16:17.253255Z"
    }
   },
   "outputs": [
    {
     "data": {
      "text/html": [
       "<div>\n",
       "<style scoped>\n",
       "    .dataframe tbody tr th:only-of-type {\n",
       "        vertical-align: middle;\n",
       "    }\n",
       "\n",
       "    .dataframe tbody tr th {\n",
       "        vertical-align: top;\n",
       "    }\n",
       "\n",
       "    .dataframe thead th {\n",
       "        text-align: right;\n",
       "    }\n",
       "</style>\n",
       "<table border=\"1\" class=\"dataframe\">\n",
       "  <thead>\n",
       "    <tr style=\"text-align: right;\">\n",
       "      <th></th>\n",
       "      <th>customer_id</th>\n",
       "      <th>invoice_id</th>\n",
       "      <th>subscription_type</th>\n",
       "      <th>amount</th>\n",
       "    </tr>\n",
       "    <tr>\n",
       "      <th>month_invoiced</th>\n",
       "      <th></th>\n",
       "      <th></th>\n",
       "      <th></th>\n",
       "      <th></th>\n",
       "    </tr>\n",
       "  </thead>\n",
       "  <tbody>\n",
       "    <tr>\n",
       "      <th>2015-01-31</th>\n",
       "      <td>1.610465e+10</td>\n",
       "      <td>8.715585e+10</td>\n",
       "      <td>11006.75</td>\n",
       "      <td>55033.75</td>\n",
       "    </tr>\n",
       "    <tr>\n",
       "      <th>2015-02-28</th>\n",
       "      <td>1.595642e+10</td>\n",
       "      <td>8.668951e+10</td>\n",
       "      <td>11121.75</td>\n",
       "      <td>55608.75</td>\n",
       "    </tr>\n",
       "    <tr>\n",
       "      <th>2015-03-31</th>\n",
       "      <td>1.580715e+10</td>\n",
       "      <td>8.621000e+10</td>\n",
       "      <td>11222.75</td>\n",
       "      <td>56113.75</td>\n",
       "    </tr>\n",
       "    <tr>\n",
       "      <th>2015-04-30</th>\n",
       "      <td>1.565336e+10</td>\n",
       "      <td>8.570140e+10</td>\n",
       "      <td>11329.75</td>\n",
       "      <td>56648.75</td>\n",
       "    </tr>\n",
       "    <tr>\n",
       "      <th>2015-05-31</th>\n",
       "      <td>1.550303e+10</td>\n",
       "      <td>8.520072e+10</td>\n",
       "      <td>11422.75</td>\n",
       "      <td>57113.75</td>\n",
       "    </tr>\n",
       "    <tr>\n",
       "      <th>2015-06-30</th>\n",
       "      <td>1.536759e+10</td>\n",
       "      <td>8.477223e+10</td>\n",
       "      <td>11514.75</td>\n",
       "      <td>57573.75</td>\n",
       "    </tr>\n",
       "    <tr>\n",
       "      <th>2015-07-31</th>\n",
       "      <td>1.523028e+10</td>\n",
       "      <td>8.432606e+10</td>\n",
       "      <td>11638.75</td>\n",
       "      <td>58193.75</td>\n",
       "    </tr>\n",
       "    <tr>\n",
       "      <th>2015-08-31</th>\n",
       "      <td>1.509680e+10</td>\n",
       "      <td>8.389434e+10</td>\n",
       "      <td>11716.75</td>\n",
       "      <td>58583.75</td>\n",
       "    </tr>\n",
       "    <tr>\n",
       "      <th>2015-09-30</th>\n",
       "      <td>1.495113e+10</td>\n",
       "      <td>8.339126e+10</td>\n",
       "      <td>11814.75</td>\n",
       "      <td>59073.75</td>\n",
       "    </tr>\n",
       "    <tr>\n",
       "      <th>2015-10-31</th>\n",
       "      <td>1.480961e+10</td>\n",
       "      <td>8.290248e+10</td>\n",
       "      <td>11906.75</td>\n",
       "      <td>59533.75</td>\n",
       "    </tr>\n",
       "    <tr>\n",
       "      <th>2015-11-30</th>\n",
       "      <td>1.466858e+10</td>\n",
       "      <td>8.240666e+10</td>\n",
       "      <td>11869.75</td>\n",
       "      <td>59348.75</td>\n",
       "    </tr>\n",
       "    <tr>\n",
       "      <th>2015-12-31</th>\n",
       "      <td>1.455051e+10</td>\n",
       "      <td>8.202879e+10</td>\n",
       "      <td>11918.75</td>\n",
       "      <td>59593.75</td>\n",
       "    </tr>\n",
       "  </tbody>\n",
       "</table>\n",
       "</div>"
      ],
      "text/plain": [
       "                 customer_id    invoice_id  subscription_type    amount\n",
       "month_invoiced                                                         \n",
       "2015-01-31      1.610465e+10  8.715585e+10           11006.75  55033.75\n",
       "2015-02-28      1.595642e+10  8.668951e+10           11121.75  55608.75\n",
       "2015-03-31      1.580715e+10  8.621000e+10           11222.75  56113.75\n",
       "2015-04-30      1.565336e+10  8.570140e+10           11329.75  56648.75\n",
       "2015-05-31      1.550303e+10  8.520072e+10           11422.75  57113.75\n",
       "2015-06-30      1.536759e+10  8.477223e+10           11514.75  57573.75\n",
       "2015-07-31      1.523028e+10  8.432606e+10           11638.75  58193.75\n",
       "2015-08-31      1.509680e+10  8.389434e+10           11716.75  58583.75\n",
       "2015-09-30      1.495113e+10  8.339126e+10           11814.75  59073.75\n",
       "2015-10-31      1.480961e+10  8.290248e+10           11906.75  59533.75\n",
       "2015-11-30      1.466858e+10  8.240666e+10           11869.75  59348.75\n",
       "2015-12-31      1.455051e+10  8.202879e+10           11918.75  59593.75"
      ]
     },
     "execution_count": 29,
     "metadata": {},
     "output_type": "execute_result"
    }
   ],
   "source": [
    "yhat_df"
   ]
  },
  {
   "cell_type": "code",
   "execution_count": 30,
   "id": "c7b7062b",
   "metadata": {
    "ExecuteTime": {
     "end_time": "2022-08-15T16:16:17.267070Z",
     "start_time": "2022-08-15T16:16:17.260942Z"
    }
   },
   "outputs": [
    {
     "data": {
      "text/html": [
       "<div>\n",
       "<style scoped>\n",
       "    .dataframe tbody tr th:only-of-type {\n",
       "        vertical-align: middle;\n",
       "    }\n",
       "\n",
       "    .dataframe tbody tr th {\n",
       "        vertical-align: top;\n",
       "    }\n",
       "\n",
       "    .dataframe thead th {\n",
       "        text-align: right;\n",
       "    }\n",
       "</style>\n",
       "<table border=\"1\" class=\"dataframe\">\n",
       "  <thead>\n",
       "    <tr style=\"text-align: right;\">\n",
       "      <th></th>\n",
       "      <th>customer_id</th>\n",
       "      <th>invoice_id</th>\n",
       "      <th>subscription_type</th>\n",
       "      <th>amount</th>\n",
       "    </tr>\n",
       "    <tr>\n",
       "      <th>month_invoiced</th>\n",
       "      <th></th>\n",
       "      <th></th>\n",
       "      <th></th>\n",
       "      <th></th>\n",
       "    </tr>\n",
       "  </thead>\n",
       "  <tbody>\n",
       "    <tr>\n",
       "      <th>2015-01-31</th>\n",
       "      <td>1.610465e+10</td>\n",
       "      <td>8.715585e+10</td>\n",
       "      <td>11006.75</td>\n",
       "      <td>55033.75</td>\n",
       "    </tr>\n",
       "    <tr>\n",
       "      <th>2016-01-31</th>\n",
       "      <td>1.635248e+10</td>\n",
       "      <td>8.781191e+10</td>\n",
       "      <td>10391.00</td>\n",
       "      <td>51955.00</td>\n",
       "    </tr>\n",
       "  </tbody>\n",
       "</table>\n",
       "</div>"
      ],
      "text/plain": [
       "                 customer_id    invoice_id  subscription_type    amount\n",
       "month_invoiced                                                         \n",
       "2015-01-31      1.610465e+10  8.715585e+10           11006.75  55033.75\n",
       "2016-01-31      1.635248e+10  8.781191e+10           10391.00  51955.00"
      ]
     },
     "execution_count": 30,
     "metadata": {},
     "output_type": "execute_result"
    }
   ],
   "source": [
    "pd.concat([yhat_df.head(1), validate.head(1)])"
   ]
  },
  {
   "cell_type": "code",
   "execution_count": 31,
   "id": "db27f791",
   "metadata": {
    "ExecuteTime": {
     "end_time": "2022-08-15T16:16:17.271099Z",
     "start_time": "2022-08-15T16:16:17.268992Z"
    }
   },
   "outputs": [],
   "source": [
    "yhat_df.index = validate.index"
   ]
  },
  {
   "cell_type": "code",
   "execution_count": 32,
   "id": "e0538fac",
   "metadata": {
    "ExecuteTime": {
     "end_time": "2022-08-15T16:16:17.275291Z",
     "start_time": "2022-08-15T16:16:17.273110Z"
    }
   },
   "outputs": [],
   "source": [
    "yhat_df = pd.DataFrame(yhat_df)"
   ]
  },
  {
   "cell_type": "code",
   "execution_count": 33,
   "id": "65350d7c",
   "metadata": {
    "ExecuteTime": {
     "end_time": "2022-08-15T16:16:17.366115Z",
     "start_time": "2022-08-15T16:16:17.276670Z"
    }
   },
   "outputs": [
    {
     "name": "stdout",
     "output_type": "stream",
     "text": [
      "amount -- RMSE: 5192\n"
     ]
    },
    {
     "data": {
      "image/png": "[encoded data removed]",
      "text/plain": [
       "<Figure size 864x288 with 1 Axes>"
      ]
     },
     "metadata": {
      "needs_background": "light"
     },
     "output_type": "display_data"
    }
   ],
   "source": [
    "plot_and_eval('amount')\n",
    "eval_df = append_eval_df(model_type='previous_year', target_var='amount')"
   ]
  },
  {
   "cell_type": "code",
   "execution_count": 34,
   "id": "5a161fb0",
   "metadata": {
    "ExecuteTime": {
     "end_time": "2022-08-15T16:16:17.374571Z",
     "start_time": "2022-08-15T16:16:17.367311Z"
    }
   },
   "outputs": [
    {
     "data": {
      "text/html": [
       "<div>\n",
       "<style scoped>\n",
       "    .dataframe tbody tr th:only-of-type {\n",
       "        vertical-align: middle;\n",
       "    }\n",
       "\n",
       "    .dataframe tbody tr th {\n",
       "        vertical-align: top;\n",
       "    }\n",
       "\n",
       "    .dataframe thead th {\n",
       "        text-align: right;\n",
       "    }\n",
       "</style>\n",
       "<table border=\"1\" class=\"dataframe\">\n",
       "  <thead>\n",
       "    <tr style=\"text-align: right;\">\n",
       "      <th></th>\n",
       "      <th>model_type</th>\n",
       "      <th>target_var</th>\n",
       "      <th>rmse</th>\n",
       "    </tr>\n",
       "  </thead>\n",
       "  <tbody>\n",
       "    <tr>\n",
       "      <th>13</th>\n",
       "      <td>Holts</td>\n",
       "      <td>amount</td>\n",
       "      <td>868.0</td>\n",
       "    </tr>\n",
       "  </tbody>\n",
       "</table>\n",
       "</div>"
      ],
      "text/plain": [
       "   model_type target_var   rmse\n",
       "13      Holts     amount  868.0"
      ]
     },
     "execution_count": 34,
     "metadata": {},
     "output_type": "execute_result"
    }
   ],
   "source": [
    "# get the min rmse for each variable\n",
    "\n",
    "min_rmse_amount = eval_df.groupby('target_var')['rmse'].min()[0]\n",
    "\n",
    "# filter only the rows that match those rmse to find out \n",
    "# which models are best thus far\n",
    "eval_df[((eval_df.rmse == min_rmse_amount)\n",
    "        )]"
   ]
  },
  {
   "cell_type": "markdown",
   "id": "650bebc0",
   "metadata": {},
   "source": [
    "### Based on previous year/month/etc., this is up to you."
   ]
  },
  {
   "cell_type": "code",
   "execution_count": 35,
   "id": "d3af26a3",
   "metadata": {
    "ExecuteTime": {
     "end_time": "2022-08-15T16:16:17.460170Z",
     "start_time": "2022-08-15T16:16:17.376397Z"
    }
   },
   "outputs": [
    {
     "data": {
      "image/png": "[encoded data removed]",
      "text/plain": [
       "<Figure size 864x432 with 1 Axes>"
      ]
     },
     "metadata": {
      "needs_background": "light"
     },
     "output_type": "display_data"
    }
   ],
   "source": [
    "x = eval_df[eval_df.target_var == 'amount']['model_type']\n",
    "y = eval_df[eval_df.target_var == 'amount']['rmse']\n",
    "plt.figure(figsize=(12, 6))\n",
    "sns.barplot(x, y)\n",
    "plt.title(col)\n",
    "plt.ylabel('RMSE')\n",
    "plt.xticks(rotation=45)\n",
    "plt.show()"
   ]
  },
  {
   "cell_type": "markdown",
   "id": "0ddb8282",
   "metadata": {},
   "source": [
    "### Predict using Holts on Test"
   ]
  },
  {
   "cell_type": "code",
   "execution_count": 36,
   "id": "2e1c34a2",
   "metadata": {
    "ExecuteTime": {
     "end_time": "2022-08-15T16:16:17.472043Z",
     "start_time": "2022-08-15T16:16:17.461527Z"
    }
   },
   "outputs": [],
   "source": [
    "model = Holt(train_h.amount, exponential = False, damped=True)\n",
    "model = model.fit(optimized = True)\n",
    "yhat_items = model.predict(start = validate_h.index[0], \n",
    "                           end = validate_h.index[-1])\n",
    "yhat_df['amount'] = round(yhat_items, 2)"
   ]
  },
  {
   "cell_type": "code",
   "execution_count": 37,
   "id": "581fcb02",
   "metadata": {
    "ExecuteTime": {
     "end_time": "2022-08-15T16:16:17.478455Z",
     "start_time": "2022-08-15T16:16:17.473665Z"
    }
   },
   "outputs": [],
   "source": [
    "yhat_test = model.predict(start = test.index[0],\n",
    "                          end = test.index[-1])"
   ]
  },
  {
   "cell_type": "code",
   "execution_count": 38,
   "id": "21b56482",
   "metadata": {
    "ExecuteTime": {
     "end_time": "2022-08-15T16:16:17.482534Z",
     "start_time": "2022-08-15T16:16:17.480241Z"
    }
   },
   "outputs": [],
   "source": [
    "yhat_test_df = pd.DataFrame(yhat_test, columns = ['amount'])"
   ]
  },
  {
   "cell_type": "code",
   "execution_count": 39,
   "id": "ba56b30d",
   "metadata": {
    "ExecuteTime": {
     "end_time": "2022-08-15T16:16:17.566905Z",
     "start_time": "2022-08-15T16:16:17.484073Z"
    }
   },
   "outputs": [
    {
     "name": "stdout",
     "output_type": "stream",
     "text": [
      "TEST SET amount -- RMSE: 2642\n"
     ]
    },
    {
     "data": {
      "image/png": "[encoded data removed]",
      "text/plain": [
       "<Figure size 864x288 with 1 Axes>"
      ]
     },
     "metadata": {
      "needs_background": "light"
     },
     "output_type": "display_data"
    }
   ],
   "source": [
    "target_var = 'amount'\n",
    "plt.figure(figsize = (12,4))\n",
    "plt.plot(train_h[target_var], label = 'Train', linewidth = 1)\n",
    "plt.plot(validate_h[target_var], label = 'Validate', linewidth = 1)\n",
    "plt.plot(yhat_df[target_var], label = 'Validate_Predicted')\n",
    "plt.plot(test_h[target_var], label = 'Test', linewidth = 1)\n",
    "plt.plot(yhat_test_df[target_var], label = 'Test_Predicted')\n",
    "plt.title(target_var)\n",
    "plt.legend()\n",
    "rmse = mean_squared_error(test_h[target_var],yhat_test_df[target_var], squared=False)\n",
    "print('TEST SET',target_var, '-- RMSE: {:.0f}'.format(rmse))\n",
    "plt.show()"
   ]
  },
  {
   "cell_type": "markdown",
   "id": "d3d07194",
   "metadata": {},
   "source": [
    "### Optional: Using store item demand\n",
    "\n",
    "1. Predict 2018 total **monthly** sales for a single store and/or item by creating a model using prophet.\n",
    "2. Return a dataframe with the month, store_id, y-hat, and the confidence intervals (y-hat lower, y-hat upper).\n",
    "3. Plot the 2018 monthly sales predictions."
   ]
  },
  {
   "cell_type": "code",
   "execution_count": 40,
   "id": "204f2ca8",
   "metadata": {
    "ExecuteTime": {
     "end_time": "2022-08-15T16:16:17.590292Z",
     "start_time": "2022-08-15T16:16:17.567975Z"
    }
   },
   "outputs": [],
   "source": [
    "from sklearn import svm\n",
    "from sklearn import metrics"
   ]
  },
  {
   "cell_type": "code",
   "execution_count": 41,
   "id": "7e640087",
   "metadata": {
    "ExecuteTime": {
     "end_time": "2022-08-15T16:16:21.341341Z",
     "start_time": "2022-08-15T16:16:17.591127Z"
    }
   },
   "outputs": [],
   "source": [
    "store = acquire.acquire_all()\n",
    "store = prepare.prepare_store(store)"
   ]
  },
  {
   "cell_type": "code",
   "execution_count": 43,
   "id": "7e53f9e8",
   "metadata": {
    "ExecuteTime": {
     "end_time": "2022-08-15T16:16:40.687079Z",
     "start_time": "2022-08-15T16:16:40.631728Z"
    }
   },
   "outputs": [],
   "source": [
    "daily_df = store.quantity.resample('D').agg('mean')"
   ]
  },
  {
   "cell_type": "code",
   "execution_count": 44,
   "id": "b645de56",
   "metadata": {
    "ExecuteTime": {
     "end_time": "2022-08-15T16:16:47.124260Z",
     "start_time": "2022-08-15T16:16:47.116005Z"
    }
   },
   "outputs": [],
   "source": [
    "train = np.array(daily_df[:'2016'])\n",
    "test = np.array(daily_df['2017':])"
   ]
  },
  {
   "cell_type": "code",
   "execution_count": 45,
   "id": "4cf33f49",
   "metadata": {
    "ExecuteTime": {
     "end_time": "2022-08-15T16:16:59.091786Z",
     "start_time": "2022-08-15T16:16:59.084370Z"
    }
   },
   "outputs": [],
   "source": [
    "def embed_data(x, steps):\n",
    "    n = len(x)\n",
    "    xout = np.zeros((n-steps, steps))\n",
    "    yout = x[steps:]\n",
    "    for i in np.arange(steps, n):\n",
    "        xout[i-steps] = x[i-steps:i]\n",
    "    return xout, yout\n"
   ]
  },
  {
   "cell_type": "code",
   "execution_count": 46,
   "id": "9f6c12ac",
   "metadata": {
    "ExecuteTime": {
     "end_time": "2022-08-15T16:17:00.494159Z",
     "start_time": "2022-08-15T16:17:00.488647Z"
    }
   },
   "outputs": [],
   "source": [
    "xtrain, ytrain = embed_data(train, 50)"
   ]
  },
  {
   "cell_type": "code",
   "execution_count": 47,
   "id": "7188ee6b",
   "metadata": {
    "ExecuteTime": {
     "end_time": "2022-08-15T16:17:06.403570Z",
     "start_time": "2022-08-15T16:17:06.398097Z"
    }
   },
   "outputs": [],
   "source": [
    "xtest, ytest = embed_data(test, 50)"
   ]
  },
  {
   "cell_type": "code",
   "execution_count": 48,
   "id": "db4fb7ef",
   "metadata": {
    "ExecuteTime": {
     "end_time": "2022-08-15T16:17:12.605129Z",
     "start_time": "2022-08-15T16:17:12.497279Z"
    }
   },
   "outputs": [],
   "source": [
    "m = svm.SVR(gamma = 0.1)\n",
    "m_fit = m.fit(xtrain,ytrain)"
   ]
  },
  {
   "cell_type": "code",
   "execution_count": 49,
   "id": "13030a02",
   "metadata": {
    "ExecuteTime": {
     "end_time": "2022-08-15T16:17:32.734157Z",
     "start_time": "2022-08-15T16:17:32.529969Z"
    }
   },
   "outputs": [],
   "source": [
    "y_pred = m_fit.predict(xtrain)"
   ]
  },
  {
   "cell_type": "code",
   "execution_count": 50,
   "id": "ce8d5d5b",
   "metadata": {
    "ExecuteTime": {
     "end_time": "2022-08-15T16:17:39.715987Z",
     "start_time": "2022-08-15T16:17:39.711181Z"
    }
   },
   "outputs": [],
   "source": [
    "mse = metrics.mean_squared_error(y_pred, ytrain, squared=False)"
   ]
  },
  {
   "cell_type": "code",
   "execution_count": 51,
   "id": "116f0e14",
   "metadata": {
    "ExecuteTime": {
     "end_time": "2022-08-15T16:17:44.475132Z",
     "start_time": "2022-08-15T16:17:44.469819Z"
    }
   },
   "outputs": [
    {
     "name": "stdout",
     "output_type": "stream",
     "text": [
      "11.042692098498623\n"
     ]
    }
   ],
   "source": [
    "print(mse)"
   ]
  },
  {
   "cell_type": "code",
   "execution_count": 52,
   "id": "bc431043",
   "metadata": {
    "ExecuteTime": {
     "end_time": "2022-08-15T16:17:50.869974Z",
     "start_time": "2022-08-15T16:17:50.775768Z"
    }
   },
   "outputs": [
    {
     "data": {
      "text/plain": [
       "<matplotlib.legend.Legend at 0x15c5cc190>"
      ]
     },
     "execution_count": 52,
     "metadata": {},
     "output_type": "execute_result"
    },
    {
     "data": {
      "image/png": "[encoded data removed]",
      "text/plain": [
       "<Figure size 432x288 with 1 Axes>"
      ]
     },
     "metadata": {
      "needs_background": "light"
     },
     "output_type": "display_data"
    }
   ],
   "source": [
    "plt.plot(y_pred, 'b-', label = 'prediction')\n",
    "plt.plot(ytrain, 'r-', label = 'actual')\n",
    "plt.legend()"
   ]
  },
  {
   "cell_type": "code",
   "execution_count": 53,
   "id": "b5a51517",
   "metadata": {
    "ExecuteTime": {
     "end_time": "2022-08-15T16:18:02.030141Z",
     "start_time": "2022-08-15T16:18:01.958429Z"
    }
   },
   "outputs": [
    {
     "data": {
      "text/plain": [
       "[<matplotlib.lines.Line2D at 0x15c4a2460>]"
      ]
     },
     "execution_count": 53,
     "metadata": {},
     "output_type": "execute_result"
    },
    {
     "data": {
      "image/png": "[encoded data removed]",
      "text/plain": [
       "<Figure size 432x288 with 1 Axes>"
      ]
     },
     "metadata": {
      "needs_background": "light"
     },
     "output_type": "display_data"
    }
   ],
   "source": [
    "plt.plot(y_pred, ytrain, '.')"
   ]
  },
  {
   "cell_type": "code",
   "execution_count": 54,
   "id": "943d814a",
   "metadata": {
    "ExecuteTime": {
     "end_time": "2022-08-15T16:18:09.318923Z",
     "start_time": "2022-08-15T16:18:09.242417Z"
    }
   },
   "outputs": [],
   "source": [
    "y_test_pred = m_fit.predict(xtest)"
   ]
  },
  {
   "cell_type": "code",
   "execution_count": 55,
   "id": "354beed0",
   "metadata": {
    "ExecuteTime": {
     "end_time": "2022-08-15T16:18:14.841854Z",
     "start_time": "2022-08-15T16:18:14.826674Z"
    }
   },
   "outputs": [
    {
     "data": {
      "text/plain": [
       "15.839347691215357"
      ]
     },
     "execution_count": 55,
     "metadata": {},
     "output_type": "execute_result"
    }
   ],
   "source": [
    "metrics.mean_squared_error(y_test_pred, ytest, squared=False)"
   ]
  },
  {
   "cell_type": "code",
   "execution_count": 56,
   "id": "3d0a3479",
   "metadata": {
    "ExecuteTime": {
     "end_time": "2022-08-15T16:18:19.232426Z",
     "start_time": "2022-08-15T16:18:19.144606Z"
    }
   },
   "outputs": [
    {
     "data": {
      "text/plain": [
       "<matplotlib.legend.Legend at 0x15a5c97c0>"
      ]
     },
     "execution_count": 56,
     "metadata": {},
     "output_type": "execute_result"
    },
    {
     "data": {
      "image/png": "[encoded data removed]",
      "text/plain": [
       "<Figure size 432x288 with 1 Axes>"
      ]
     },
     "metadata": {
      "needs_background": "light"
     },
     "output_type": "display_data"
    }
   ],
   "source": [
    "plt.plot(y_test_pred,'b-', label = 'prediction')\n",
    "plt.plot(ytest, 'r-', label = 'test')\n",
    "plt.legend()"
   ]
  },
  {
   "cell_type": "code",
   "execution_count": null,
   "id": "993975ea",
   "metadata": {},
   "outputs": [],
   "source": []
  }
 ],
 "metadata": {
  "kernelspec": {
   "display_name": "Python 3 (ipykernel)",
   "language": "python",
   "name": "python3"
  },
  "language_info": {
   "codemirror_mode": {
    "name": "ipython",
    "version": 3
   },
   "file_extension": ".py",
   "mimetype": "text/x-python",
   "name": "python",
   "nbconvert_exporter": "python",
   "pygments_lexer": "ipython3",
   "version": "3.9.13"
  }
 },
 "nbformat": 4,
 "nbformat_minor": 5
}
